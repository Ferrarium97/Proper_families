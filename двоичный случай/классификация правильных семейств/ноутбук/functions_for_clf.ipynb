{
 "cells": [
  {
   "cell_type": "code",
   "execution_count": 1,
   "id": "metric-hierarchy",
   "metadata": {},
   "outputs": [],
   "source": [
    "import numpy as np\n",
    "import itertools as it"
   ]
  },
  {
   "cell_type": "markdown",
   "id": "necessary-clark",
   "metadata": {},
   "source": [
    "Создаём массив наборов аргументов x,y,z"
   ]
  },
  {
   "cell_type": "code",
   "execution_count": 2,
   "id": "orange-detection",
   "metadata": {},
   "outputs": [],
   "source": [
    "args = np.array(list(it.product(range(2), repeat=3)))"
   ]
  },
  {
   "cell_type": "markdown",
   "id": "latest-thursday",
   "metadata": {},
   "source": [
    "Перевод набора аргументов, который можно представить в виде двоичного числа, в его десятичную запись"
   ]
  },
  {
   "cell_type": "code",
   "execution_count": 3,
   "id": "sticky-angola",
   "metadata": {
    "scrolled": true
   },
   "outputs": [],
   "source": [
    "def construct(arg):\n",
    "    return int(''.join(map(str, arg)),2)"
   ]
  },
  {
   "cell_type": "markdown",
   "id": "golden-allah",
   "metadata": {},
   "source": [
    "Создание перестановки на значениях функции по перестановке на аргументах"
   ]
  },
  {
   "cell_type": "code",
   "execution_count": 4,
   "id": "novel-style",
   "metadata": {},
   "outputs": [],
   "source": [
    "def perm_on_val(perm):\n",
    "    args_perm = args[:, perm].tolist()\n",
    "    return list(map(construct, args_perm))"
   ]
  },
  {
   "cell_type": "markdown",
   "id": "consolidated-russian",
   "metadata": {},
   "source": [
    "Создание всех перестановок на аргументах"
   ]
  },
  {
   "cell_type": "code",
   "execution_count": 5,
   "id": "finite-majority",
   "metadata": {},
   "outputs": [],
   "source": [
    "perm = list(map(list, it.permutations(range(3))))"
   ]
  },
  {
   "cell_type": "markdown",
   "id": "advanced-episode",
   "metadata": {},
   "source": [
    "Список пар, состоящих из перестановки на аргументах и перестановки на значениях функции"
   ]
  },
  {
   "cell_type": "code",
   "execution_count": 6,
   "id": "intensive-fence",
   "metadata": {},
   "outputs": [],
   "source": [
    "perm_couple = [(p, perm_on_val(p)) for p in perm]"
   ]
  },
  {
   "cell_type": "markdown",
   "id": "unknown-olympus",
   "metadata": {},
   "source": [
    "Построение семейства, полученного из исходного fam путём перестановки p[0] на аргументах функций и самих функций в семействе"
   ]
  },
  {
   "cell_type": "code",
   "execution_count": 7,
   "id": "minimal-breath",
   "metadata": {},
   "outputs": [],
   "source": [
    "def fam_aft_perm(fam, p):\n",
    "    return fam[:, p[1]][p[0]]"
   ]
  },
  {
   "cell_type": "markdown",
   "id": "rural-phase",
   "metadata": {},
   "source": [
    "Проверка семейства на свойство треугольности: первая функция - константа, вторая функция не зависит от y и z, а третья функция не зависит от z."
   ]
  },
  {
   "cell_type": "code",
   "execution_count": 10,
   "id": "polar-trouble",
   "metadata": {},
   "outputs": [],
   "source": [
    "def check_trg(fam):\n",
    "    if np.all(fam[0] == fam[0,0]) and \\\n",
    "       np.all([fam[1][i:i+4] == fam[1,i] for i in range(0,8,4)]) and \\\n",
    "       np.all([fam[2][i:i+2] == fam[2,i] for i in range(0,8,2)]):\n",
    "        return True\n",
    "    else:\n",
    "        return False"
   ]
  },
  {
   "cell_type": "markdown",
   "id": "supreme-distribution",
   "metadata": {},
   "source": [
    "Проверка семейства на треугольность: если существует перестановка на аргументах и функциях семейства, которая делает из исходного семейство, обладающее свойством треугольности, то семейство треугольное."
   ]
  },
  {
   "cell_type": "code",
   "execution_count": 11,
   "id": "eight-gothic",
   "metadata": {},
   "outputs": [],
   "source": [
    "def check_trg_aft_perm(fam):\n",
    "    for pc in perm_couple:\n",
    "        if check_trg(fam_aft_perm(fam, pc)):\n",
    "            return True\n",
    "    return False"
   ]
  },
  {
   "cell_type": "markdown",
   "id": "affecting-large",
   "metadata": {},
   "source": [
    "Проверка семейства на ортогональность: все функции в семействе должны быть попарно ортогональны."
   ]
  },
  {
   "cell_type": "code",
   "execution_count": 12,
   "id": "ahead-browse",
   "metadata": {},
   "outputs": [],
   "source": [
    "def check_ort(fam):\n",
    "    return np.all(np.count_nonzero(fam == 0, axis=0)>1)"
   ]
  },
  {
   "cell_type": "markdown",
   "id": "4e922b1a",
   "metadata": {},
   "source": [
    "Проверка семейства на содержание хотя бы одной константы"
   ]
  },
  {
   "cell_type": "code",
   "execution_count": 1,
   "id": "parliamentary-shoot",
   "metadata": {},
   "outputs": [],
   "source": [
    "def check_const(fam):\n",
    "    return np.all(fam[0] == fam[0,0]) or np.all(fam[1] == fam[1,0]) or np.all(fam[2] == fam[2,0])"
   ]
  }
 ],
 "metadata": {
  "kernelspec": {
   "display_name": "tensorflow_macos_venv",
   "language": "python",
   "name": "tensorflow_macos_venv"
  },
  "language_info": {
   "codemirror_mode": {
    "name": "ipython",
    "version": 3
   },
   "file_extension": ".py",
   "mimetype": "text/x-python",
   "name": "python",
   "nbconvert_exporter": "python",
   "pygments_lexer": "ipython3",
   "version": "3.8.2"
  }
 },
 "nbformat": 4,
 "nbformat_minor": 5
}
