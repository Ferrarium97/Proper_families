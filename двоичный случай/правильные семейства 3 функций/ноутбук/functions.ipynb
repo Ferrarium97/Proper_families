{
 "cells": [
  {
   "cell_type": "code",
   "execution_count": 1,
   "id": "determined-beatles",
   "metadata": {},
   "outputs": [],
   "source": [
    "import itertools as it\n",
    "from tqdm import tqdm"
   ]
  },
  {
   "cell_type": "markdown",
   "id": "powerful-brush",
   "metadata": {},
   "source": [
    "Генерация наборов аргументов x,y,z вместе с порядковым номером набора"
   ]
  },
  {
   "cell_type": "code",
   "execution_count": 2,
   "id": "stock-article",
   "metadata": {},
   "outputs": [],
   "source": [
    "num_args = tuple(enumerate(it.product((0,1), repeat = 3)))"
   ]
  },
  {
   "cell_type": "markdown",
   "id": "forced-brown",
   "metadata": {},
   "source": [
    "Пары различных нумерованных наборов аргументов"
   ]
  },
  {
   "cell_type": "code",
   "execution_count": 3,
   "id": "confused-modification",
   "metadata": {},
   "outputs": [],
   "source": [
    "pairs = tuple(it.combinations(num_args, 2))"
   ]
  },
  {
   "cell_type": "markdown",
   "id": "running-belle",
   "metadata": {},
   "source": [
    "Функция возвращает набор позиций, в которых отличаются два вектора x и y"
   ]
  },
  {
   "cell_type": "code",
   "execution_count": 4,
   "id": "brilliant-arbor",
   "metadata": {},
   "outputs": [],
   "source": [
    "def diff_idx(x,y):\n",
    "    return (i for (i,(a,b)) in enumerate(zip(x,y)) if a!=b)"
   ]
  },
  {
   "cell_type": "markdown",
   "id": "grand-holder",
   "metadata": {},
   "source": [
    "Проверка на правильность по определению (на вход подаётся набор из трёх функций, каждая из которых представлена вектором значений на каждом из наборов переменных)"
   ]
  },
  {
   "cell_type": "code",
   "execution_count": 5,
   "id": "outer-belfast",
   "metadata": {},
   "outputs": [],
   "source": [
    "def func(f):\n",
    "    for p in pairs:\n",
    "        flag = False\n",
    "        for idx in diff_idx(p[0][1],p[1][1]):\n",
    "            if f[idx][p[0][0]] == f[idx][p[1][0]]:\n",
    "                flag = True\n",
    "                break\n",
    "        if not flag:\n",
    "            break\n",
    "    return flag"
   ]
  }
 ],
 "metadata": {
  "kernelspec": {
   "display_name": "tensorflow_macos_venv",
   "language": "python",
   "name": "tensorflow_macos_venv"
  },
  "language_info": {
   "codemirror_mode": {
    "name": "ipython",
    "version": 3
   },
   "file_extension": ".py",
   "mimetype": "text/x-python",
   "name": "python",
   "nbconvert_exporter": "python",
   "pygments_lexer": "ipython3",
   "version": "3.8.2"
  }
 },
 "nbformat": 4,
 "nbformat_minor": 5
}
