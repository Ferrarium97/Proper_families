{
 "cells": [
  {
   "cell_type": "markdown",
   "id": "satellite-ethics",
   "metadata": {},
   "source": [
    "Подсчёт количества правильных семейств из 3 функций с помощью алгоритма построения правильного семейства N+1 функций из правильных семейств N функций"
   ]
  },
  {
   "cell_type": "code",
   "execution_count": 1,
   "id": "false-istanbul",
   "metadata": {},
   "outputs": [],
   "source": [
    "import itertools as it\n",
    "from tqdm import tqdm\n",
    "import numpy as np\n",
    "import multiprocessing\n",
    "from ipynb.fs.full.functions import func\n",
    "from math import ceil"
   ]
  },
  {
   "cell_type": "markdown",
   "id": "peaceful-attitude",
   "metadata": {},
   "source": [
    "Генерация наборов значений переменных x и y вместе с порядковым номером набора"
   ]
  },
  {
   "cell_type": "code",
   "execution_count": 2,
   "id": "sharp-portsmouth",
   "metadata": {
    "scrolled": true
   },
   "outputs": [
    {
     "data": {
      "text/plain": [
       "((0, (0, 0)), (1, (0, 1)), (2, (1, 0)), (3, (1, 1)))"
      ]
     },
     "execution_count": 2,
     "metadata": {},
     "output_type": "execute_result"
    }
   ],
   "source": [
    "num_args_2 = tuple(enumerate(it.product((0,1), repeat = 2)))\n",
    "num_args_2"
   ]
  },
  {
   "cell_type": "markdown",
   "id": "cleared-selection",
   "metadata": {},
   "source": [
    "Генерация различных пар наборов"
   ]
  },
  {
   "cell_type": "code",
   "execution_count": 3,
   "id": "rational-workshop",
   "metadata": {
    "scrolled": false
   },
   "outputs": [
    {
     "data": {
      "text/plain": [
       "(((0, (0, 0)), (1, (0, 1))),\n",
       " ((0, (0, 0)), (2, (1, 0))),\n",
       " ((0, (0, 0)), (3, (1, 1))),\n",
       " ((1, (0, 1)), (2, (1, 0))),\n",
       " ((1, (0, 1)), (3, (1, 1))),\n",
       " ((2, (1, 0)), (3, (1, 1))))"
      ]
     },
     "execution_count": 3,
     "metadata": {},
     "output_type": "execute_result"
    }
   ],
   "source": [
    "pairs_2 = tuple(it.combinations(num_args_2, 2))\n",
    "pairs_2"
   ]
  },
  {
   "cell_type": "markdown",
   "id": "revised-tackle",
   "metadata": {},
   "source": [
    "Выводит индексы позиций, в которых отличаются 2 вектора"
   ]
  },
  {
   "cell_type": "code",
   "execution_count": 4,
   "id": "classified-productivity",
   "metadata": {},
   "outputs": [],
   "source": [
    "def diff_idx(x,y):\n",
    "    return (i for (i,(a,b)) in enumerate(zip(x,y)) if a!=b)"
   ]
  },
  {
   "cell_type": "markdown",
   "id": "necessary-interface",
   "metadata": {},
   "source": [
    "Проверка на правильность по определению (на вход подаётся набор из двух функций, каждая из которых представлена вектором значений на каждом из наборов переменных)"
   ]
  },
  {
   "cell_type": "code",
   "execution_count": 5,
   "id": "controversial-shirt",
   "metadata": {},
   "outputs": [],
   "source": [
    "def func_2(f):\n",
    "    for p in pairs_2:\n",
    "        flag = False\n",
    "        for idx in diff_idx(p[0][1],p[1][1]):\n",
    "            if f[idx][p[0][0]] == f[idx][p[1][0]]:\n",
    "                flag = True\n",
    "                break\n",
    "        if not flag:\n",
    "            break\n",
    "    return flag"
   ]
  },
  {
   "cell_type": "markdown",
   "id": "compact-workplace",
   "metadata": {},
   "source": [
    "Так как i-я функция не зависит от i-ой переменной, то нам достаточно знать значения функции на 2/4 наборах, остальные значения определяются по этим 2 наборам. "
   ]
  },
  {
   "cell_type": "code",
   "execution_count": 6,
   "id": "atmospheric-peripheral",
   "metadata": {},
   "outputs": [],
   "source": [
    "def f_2(elem, idx):\n",
    "    l = [0] * 4\n",
    "    if idx == 0:\n",
    "        l[0] = l[2] = elem[0]\n",
    "        l[1] = l[3] = elem[1]\n",
    "    else:\n",
    "        l[0] = l[1] = elem[0]\n",
    "        l[2] = l[3] = elem[1]\n",
    "    return tuple(l)"
   ]
  },
  {
   "cell_type": "markdown",
   "id": "indirect-stream",
   "metadata": {},
   "source": [
    "f_0 - итератор, состоящий из функций, не зависящие от x, а f_1 - итератор, состоящий из функций, не зависящие от y. iterator_2 - итератор, состоящий из элементов декартового произведения f_0 и f_1, то есть семейства-кандидаты на правильность. Итератор существует до тех пор, пока не будут перечислены все его элементы, вызываемые методом next. Если элементы в итераторе закончились, то он бросает исключение. Использовал итераторы для экономии памяти."
   ]
  },
  {
   "cell_type": "code",
   "execution_count": 7,
   "id": "cheap-semiconductor",
   "metadata": {},
   "outputs": [],
   "source": [
    "iter_2 = it.product((0,1), repeat = 2)\n",
    "f_0 = map(lambda p: f_2(p, 0), iter_2)\n",
    "iter_2 = it.product((0,1), repeat = 2)\n",
    "f_1 = map(lambda p: f_2(p, 1), iter_2)\n",
    "iterator_2 = it.product(f_0, f_1)"
   ]
  },
  {
   "cell_type": "markdown",
   "id": "severe-maintenance",
   "metadata": {},
   "source": [
    "Проходим в цикле по всем семействам и подсчитываем правильные (переменная s) и сохраняем правильные семейства в переменную collect."
   ]
  },
  {
   "cell_type": "code",
   "execution_count": 8,
   "id": "special-generation",
   "metadata": {},
   "outputs": [
    {
     "name": "stderr",
     "output_type": "stream",
     "text": [
      "100%|██████████| 16/16 [00:00<00:00, 49673.47it/s]"
     ]
    },
    {
     "name": "stdout",
     "output_type": "stream",
     "text": [
      "12\n"
     ]
    },
    {
     "name": "stderr",
     "output_type": "stream",
     "text": [
      "\n"
     ]
    }
   ],
   "source": [
    "s=0\n",
    "collect = []\n",
    "for _ in tqdm(range(16)):\n",
    "    el = next(iterator_2)\n",
    "    if func_2(el):\n",
    "        s+=1\n",
    "        collect.append(el)\n",
    "print(s)"
   ]
  },
  {
   "cell_type": "code",
   "execution_count": 9,
   "id": "headed-shakespeare",
   "metadata": {
    "scrolled": false
   },
   "outputs": [
    {
     "data": {
      "text/plain": [
       "[((0, 0, 0, 0), (0, 0, 0, 0)),\n",
       " ((0, 0, 0, 0), (0, 0, 1, 1)),\n",
       " ((0, 0, 0, 0), (1, 1, 0, 0)),\n",
       " ((0, 0, 0, 0), (1, 1, 1, 1)),\n",
       " ((0, 1, 0, 1), (0, 0, 0, 0)),\n",
       " ((0, 1, 0, 1), (1, 1, 1, 1)),\n",
       " ((1, 0, 1, 0), (0, 0, 0, 0)),\n",
       " ((1, 0, 1, 0), (1, 1, 1, 1)),\n",
       " ((1, 1, 1, 1), (0, 0, 0, 0)),\n",
       " ((1, 1, 1, 1), (0, 0, 1, 1)),\n",
       " ((1, 1, 1, 1), (1, 1, 0, 0)),\n",
       " ((1, 1, 1, 1), (1, 1, 1, 1))]"
      ]
     },
     "execution_count": 9,
     "metadata": {},
     "output_type": "execute_result"
    }
   ],
   "source": [
    "collect"
   ]
  },
  {
   "cell_type": "markdown",
   "id": "lasting-yahoo",
   "metadata": {},
   "source": [
    "Конвертируем collect в numpy-массив для удобства."
   ]
  },
  {
   "cell_type": "code",
   "execution_count": 10,
   "id": "banned-courage",
   "metadata": {},
   "outputs": [],
   "source": [
    "collect = np.array(collect)"
   ]
  },
  {
   "cell_type": "code",
   "execution_count": 11,
   "id": "positive-resolution",
   "metadata": {
    "scrolled": true
   },
   "outputs": [
    {
     "data": {
      "text/plain": [
       "array([[[0, 0, 0, 0],\n",
       "        [0, 0, 0, 0]],\n",
       "\n",
       "       [[0, 0, 0, 0],\n",
       "        [0, 0, 1, 1]],\n",
       "\n",
       "       [[0, 0, 0, 0],\n",
       "        [1, 1, 0, 0]],\n",
       "\n",
       "       [[0, 0, 0, 0],\n",
       "        [1, 1, 1, 1]],\n",
       "\n",
       "       [[0, 1, 0, 1],\n",
       "        [0, 0, 0, 0]],\n",
       "\n",
       "       [[0, 1, 0, 1],\n",
       "        [1, 1, 1, 1]],\n",
       "\n",
       "       [[1, 0, 1, 0],\n",
       "        [0, 0, 0, 0]],\n",
       "\n",
       "       [[1, 0, 1, 0],\n",
       "        [1, 1, 1, 1]],\n",
       "\n",
       "       [[1, 1, 1, 1],\n",
       "        [0, 0, 0, 0]],\n",
       "\n",
       "       [[1, 1, 1, 1],\n",
       "        [0, 0, 1, 1]],\n",
       "\n",
       "       [[1, 1, 1, 1],\n",
       "        [1, 1, 0, 0]],\n",
       "\n",
       "       [[1, 1, 1, 1],\n",
       "        [1, 1, 1, 1]]])"
      ]
     },
     "execution_count": 11,
     "metadata": {},
     "output_type": "execute_result"
    }
   ],
   "source": [
    "collect"
   ]
  },
  {
   "cell_type": "markdown",
   "id": "scenic-objective",
   "metadata": {},
   "source": [
    "Перевод числа от 0 до 4 в двоичную систему счисления (выходные числа длины 2 для удобного представления в виде наборов переменных)"
   ]
  },
  {
   "cell_type": "code",
   "execution_count": 12,
   "id": "understanding-cabin",
   "metadata": {},
   "outputs": [],
   "source": [
    "def convert_to_base_2(x):\n",
    "    if x == 0:\n",
    "        return np.base_repr(x, base=2, padding=2)\n",
    "    elif x == 1:\n",
    "        return np.base_repr(x, base=2, padding=1)\n",
    "    else:\n",
    "        return np.base_repr(x, base=2)      "
   ]
  },
  {
   "cell_type": "markdown",
   "id": "organic-masters",
   "metadata": {},
   "source": [
    "Перевод строкового представления числа в двоичной системе счисления в набор значений переменных на примере числа 3"
   ]
  },
  {
   "cell_type": "code",
   "execution_count": 17,
   "id": "running-rabbit",
   "metadata": {},
   "outputs": [
    {
     "data": {
      "text/plain": [
       "array([1, 1])"
      ]
     },
     "execution_count": 17,
     "metadata": {},
     "output_type": "execute_result"
    }
   ],
   "source": [
    "np.array(list(convert_to_base_2(3)), dtype=int)"
   ]
  },
  {
   "cell_type": "markdown",
   "id": "still-hostel",
   "metadata": {},
   "source": [
    "Набор, каждый элемент которого состоит из 2 правильных семейств порядка 2"
   ]
  },
  {
   "cell_type": "code",
   "execution_count": 18,
   "id": "enabling-israel",
   "metadata": {},
   "outputs": [],
   "source": [
    "set_of_fam = np.array(list(it.product(collect, repeat=2)))"
   ]
  },
  {
   "cell_type": "markdown",
   "id": "negative-crystal",
   "metadata": {},
   "source": [
    "Проверка условия из леммы 3 (возвращает True/False в зависимости от того, нужно ли соединять вершины графа(наборы переменных) ребром)."
   ]
  },
  {
   "cell_type": "code",
   "execution_count": 20,
   "id": "prepared-luther",
   "metadata": {},
   "outputs": [],
   "source": [
    "def check_edge(s, k, g):\n",
    "    flag = False\n",
    "    for (i, j) in it.permutations(range(2), 2):\n",
    "        if set(diff_idx(np.array(list(convert_to_base_2(s)), dtype=int),\\\n",
    "                        np.array(list(convert_to_base_2(k)), dtype=int))).\\\n",
    "           issubset(set(diff_idx(g[i][:, s],g[j][:, k]))):\n",
    "            flag = True\n",
    "            break\n",
    "    return flag"
   ]
  },
  {
   "cell_type": "markdown",
   "id": "collaborative-biography",
   "metadata": {},
   "source": [
    "Поиск всех вершин, находящихся в одной компоненте связности с i-ой вершиной"
   ]
  },
  {
   "cell_type": "code",
   "execution_count": 21,
   "id": "casual-belgium",
   "metadata": {},
   "outputs": [],
   "source": [
    "def find_comp(i, comp, use_vert, graph):\n",
    "    for j in range(4):\n",
    "        if graph[i, j] == 1 or graph[j, i] == 1:\n",
    "            if j not in use_vert:\n",
    "                use_vert.append(j)\n",
    "                comp.append(j)\n",
    "                find_comp(j, comp, use_vert ,graph)"
   ]
  },
  {
   "cell_type": "markdown",
   "id": "monthly-honey",
   "metadata": {},
   "source": [
    "Поиск всех компонент связности в графе. Выдает количество компонент связности и сами компоненты"
   ]
  },
  {
   "cell_type": "code",
   "execution_count": 22,
   "id": "running-warrant",
   "metadata": {},
   "outputs": [],
   "source": [
    "def find_components(graph):    \n",
    "    use_vert = []\n",
    "    components = []\n",
    "    for i in range(4):\n",
    "        if i not in use_vert:\n",
    "            use_vert.append(i)\n",
    "            comp = [i]\n",
    "            find_comp(i, comp, use_vert ,graph)\n",
    "            components.append(comp) \n",
    "    return len(components), components"
   ]
  },
  {
   "cell_type": "markdown",
   "id": "quiet-bandwidth",
   "metadata": {},
   "source": [
    "Построение графа (заполняется только верхняя диагональ)"
   ]
  },
  {
   "cell_type": "code",
   "execution_count": 24,
   "id": "cognitive-trustee",
   "metadata": {},
   "outputs": [],
   "source": [
    "def build_graph(fam):\n",
    "    graph = np.zeros((4,4), dtype=int)\n",
    "    for (i, j) in it.combinations(range(4), 2):\n",
    "        if check_edge(i, j, fam):\n",
    "            graph[i][j] = 1\n",
    "    return graph"
   ]
  },
  {
   "cell_type": "markdown",
   "id": "foreign-clothing",
   "metadata": {},
   "source": [
    "Подсчет количества всевозможных правильных семейств порядка 3, построенных по набору из 2 правильных семейств порядка 2. Для каждого такого набора считаем количество всевозможных доопределений третьей функции на каждой компоненте связности графа."
   ]
  },
  {
   "cell_type": "code",
   "execution_count": 25,
   "id": "rental-bible",
   "metadata": {},
   "outputs": [
    {
     "name": "stderr",
     "output_type": "stream",
     "text": [
      "100%|██████████| 144/144 [00:00<00:00, 4626.64it/s]"
     ]
    },
    {
     "name": "stdout",
     "output_type": "stream",
     "text": [
      "744\n"
     ]
    },
    {
     "name": "stderr",
     "output_type": "stream",
     "text": [
      "\n"
     ]
    }
   ],
   "source": [
    "count = 0\n",
    "for fam in tqdm(set_of_fam):\n",
    "    graph = build_graph(fam)\n",
    "    count += 2 ** find_components(graph)[0]\n",
    "print(count)"
   ]
  },
  {
   "cell_type": "markdown",
   "id": "union-hello",
   "metadata": {},
   "source": [
    "Реализация унарных функций 2-значной логики I_0,...,I_{k-1}"
   ]
  },
  {
   "cell_type": "code",
   "execution_count": 26,
   "id": "indian-france",
   "metadata": {},
   "outputs": [],
   "source": [
    "def I_func(x, j):\n",
    "    return 1 if x==j else 0"
   ]
  },
  {
   "cell_type": "markdown",
   "id": "strategic-aggregate",
   "metadata": {},
   "source": [
    "Основный алгоритм построения различных семейств порядка 3, который получает на вход 2 правильных семейства порядка 2 и в результате выполнения функции наполняет список lst правильными семействами порядка 3, полученными путём всевозможных доопределений функции g на всех компонентах связности графа"
   ]
  },
  {
   "cell_type": "code",
   "execution_count": 30,
   "id": "swedish-canal",
   "metadata": {},
   "outputs": [
    {
     "data": {
      "text/plain": [
       "(2, 2, 4)"
      ]
     },
     "execution_count": 30,
     "metadata": {},
     "output_type": "execute_result"
    }
   ],
   "source": [
    "set_of_fam[0].shape"
   ]
  },
  {
   "cell_type": "code",
   "execution_count": 31,
   "id": "conditional-telling",
   "metadata": {
    "scrolled": true
   },
   "outputs": [],
   "source": [
    "def build_all_fam(fam, comp_num, components, lst):\n",
    "    short_fam = tuple(tuple(max(min(I_func(x,0), fam[0,j,y]),\\\n",
    "                                min(I_func(x,1), fam[1,j,y])) for y in range(4) for x in range(2)) for j in range(2))\n",
    "    var_of_redef = it.product((0,1), repeat=comp_num)\n",
    "    for var in var_of_redef:\n",
    "        g = [0] * 8\n",
    "        for (i,comp) in enumerate(components):\n",
    "            for arg in comp:\n",
    "                g[2*arg:2*arg+2] = [var[i]]*2\n",
    "        new_fam = short_fam + (tuple(g),)\n",
    "        lst.append(new_fam)"
   ]
  },
  {
   "cell_type": "markdown",
   "id": "human-leave",
   "metadata": {},
   "source": [
    "Строим правильные семейства с помощью алгоритма, использующего граф (реализован в функции build_all_fam), который получает на вход 2 правильных семейства порядка 2 и выдает все построенные семейства порядка 3, полученные с помощью различного доопределения функции на компонентах связности графа"
   ]
  },
  {
   "cell_type": "code",
   "execution_count": 32,
   "id": "earned-bracket",
   "metadata": {},
   "outputs": [
    {
     "name": "stderr",
     "output_type": "stream",
     "text": [
      "100%|██████████| 144/144 [00:00<00:00, 3715.68it/s]\n"
     ]
    }
   ],
   "source": [
    "lst = []\n",
    "for fam in tqdm(set_of_fam):\n",
    "    graph = build_graph(fam)\n",
    "    comp_num, components = find_components(graph)\n",
    "    build_all_fam(fam, comp_num, components, lst)"
   ]
  },
  {
   "cell_type": "code",
   "execution_count": 33,
   "id": "gross-fishing",
   "metadata": {},
   "outputs": [],
   "source": [
    "lst = tuple(lst)"
   ]
  },
  {
   "cell_type": "code",
   "execution_count": 34,
   "id": "tired-license",
   "metadata": {
    "scrolled": true
   },
   "outputs": [
    {
     "data": {
      "text/plain": [
       "744"
      ]
     },
     "execution_count": 34,
     "metadata": {},
     "output_type": "execute_result"
    }
   ],
   "source": [
    "len(lst)"
   ]
  },
  {
   "cell_type": "markdown",
   "id": "contrary-petite",
   "metadata": {},
   "source": [
    "С помощью параллельных вычислений проверяем, что все полученные семейства являются правильными по определению"
   ]
  },
  {
   "cell_type": "code",
   "execution_count": 35,
   "id": "equipped-proposal",
   "metadata": {
    "scrolled": true
   },
   "outputs": [
    {
     "name": "stderr",
     "output_type": "stream",
     "text": [
      "100%|██████████| 744/744 [00:00<00:00, 19799.77it/s]"
     ]
    },
    {
     "name": "stdout",
     "output_type": "stream",
     "text": [
      "744\n"
     ]
    },
    {
     "name": "stderr",
     "output_type": "stream",
     "text": [
      "\n"
     ]
    }
   ],
   "source": [
    "s = 0\n",
    "for fam in tqdm(lst):\n",
    "    if func(fam):\n",
    "        s+=1\n",
    "print(s)        "
   ]
  },
  {
   "cell_type": "markdown",
   "id": "twelve-blood",
   "metadata": {},
   "source": [
    "Конвертируем кортеж с правильными семействами в numpy-массив"
   ]
  },
  {
   "cell_type": "code",
   "execution_count": 58,
   "id": "canadian-greenhouse",
   "metadata": {},
   "outputs": [],
   "source": [
    "lst = np.array(lst)"
   ]
  },
  {
   "cell_type": "markdown",
   "id": "traditional-runner",
   "metadata": {},
   "source": [
    "Записываем результат в файл result.npz с применением сжатия"
   ]
  },
  {
   "cell_type": "code",
   "execution_count": 59,
   "id": "apart-education",
   "metadata": {},
   "outputs": [],
   "source": [
    "np.savez_compressed('all_fams_2', lst)"
   ]
  }
 ],
 "metadata": {
  "kernelspec": {
   "display_name": "tensorflow_macos_venv",
   "language": "python",
   "name": "tensorflow_macos_venv"
  },
  "language_info": {
   "codemirror_mode": {
    "name": "ipython",
    "version": 3
   },
   "file_extension": ".py",
   "mimetype": "text/x-python",
   "name": "python",
   "nbconvert_exporter": "python",
   "pygments_lexer": "ipython3",
   "version": "3.8.2"
  }
 },
 "nbformat": 4,
 "nbformat_minor": 5
}
