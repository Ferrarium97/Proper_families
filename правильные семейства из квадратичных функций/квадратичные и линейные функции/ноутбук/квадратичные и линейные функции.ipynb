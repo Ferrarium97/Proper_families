{
 "cells": [
  {
   "cell_type": "markdown",
   "id": "straight-access",
   "metadata": {},
   "source": [
    "Подсчёт количества правильных семейств из квадратичных и линейных функций от 3 переменных и проверка на треугольность"
   ]
  },
  {
   "cell_type": "code",
   "execution_count": 1,
   "id": "bound-rogers",
   "metadata": {},
   "outputs": [],
   "source": [
    "import itertools as it\n",
    "from math import ceil\n",
    "import numpy as np\n",
    "import multiprocessing\n",
    "from ipynb.fs.full.my_functions import check_3\n",
    "from functools import partial\n",
    "import copy"
   ]
  },
  {
   "cell_type": "markdown",
   "id": "young-machinery",
   "metadata": {},
   "source": [
    "Создаём набор из 10 коэффициентов для квадратичных функций(по порядку: x^2, y^2, z^2, xy, xz, yz, x, y, z, c)"
   ]
  },
  {
   "cell_type": "code",
   "execution_count": 2,
   "id": "caring-farming",
   "metadata": {},
   "outputs": [],
   "source": [
    "coef = np.array(tuple(it.product((0,1,2), repeat = 10)))"
   ]
  },
  {
   "cell_type": "markdown",
   "id": "southern-lawsuit",
   "metadata": {},
   "source": [
    "Отбираем наборы коэффициентов, в которых есть хотя бы один ненулевой при квадратичном члене"
   ]
  },
  {
   "cell_type": "code",
   "execution_count": 3,
   "id": "paperback-reader",
   "metadata": {},
   "outputs": [],
   "source": [
    "coef = coef[(coef[:, 0] != 0) | (coef[:, 1] != 0) | (coef[:, 2] != 0) | (coef[:, 3] != 0) | (coef[:, 4] != 0) | (coef[:, 5] != 0)]"
   ]
  },
  {
   "cell_type": "markdown",
   "id": "worth-hygiene",
   "metadata": {},
   "source": [
    "f_0 - кортеж квадратичных функций (каждая функция задаётся наборов коэффициентов), не зависящих от x, f_1 - от y, f_2 - от z. В переменной iterator находятся семейства-кандидаты на правильность (элементы декартова произведения f_0 x f_1 x f_2)"
   ]
  },
  {
   "cell_type": "code",
   "execution_count": 4,
   "id": "impressive-purchase",
   "metadata": {},
   "outputs": [],
   "source": [
    "f_0 = coef[(coef[:,0]==0) & (coef[:,3]==0) & (coef[:,4]==0) & (coef[:,6]==0)]\n",
    "f_0 = tuple(map(tuple, f_0))\n",
    "f_1 = coef[(coef[:,1]==0) & (coef[:,3]==0) & (coef[:,5]==0) & (coef[:,7]==0)]\n",
    "f_1 = tuple(map(tuple, f_1))\n",
    "f_2 = coef[(coef[:,2]==0) & (coef[:,4]==0) & (coef[:,5]==0) & (coef[:,8]==0)]\n",
    "f_2 = tuple(map(tuple, f_2))"
   ]
  },
  {
   "cell_type": "markdown",
   "id": "generic-grocery",
   "metadata": {},
   "source": [
    "Создаём набор из 10 коэффициентов для линейных функций в том же формате, что и для квадратичных (по порядку: x^2, y^2, z^2, xy, xz, yz, x, y, z, c)"
   ]
  },
  {
   "cell_type": "code",
   "execution_count": 5,
   "id": "hollow-degree",
   "metadata": {},
   "outputs": [],
   "source": [
    "coef_1 = np.array(tuple(it.product((0,1,2), repeat = 10)))"
   ]
  },
  {
   "cell_type": "markdown",
   "id": "nonprofit-positive",
   "metadata": {},
   "source": [
    "Отбираем линейные функции, т.е. те наборы коэффициентов, у которых квадратичная составляющая равна 0 (первые 6 коэффициентов)"
   ]
  },
  {
   "cell_type": "code",
   "execution_count": 6,
   "id": "homeless-rhythm",
   "metadata": {},
   "outputs": [],
   "source": [
    "coef_1 = coef_1[np.all(coef_1[:,:6]==0, axis=1)]"
   ]
  },
  {
   "cell_type": "markdown",
   "id": "cognitive-mistress",
   "metadata": {},
   "source": [
    "l_0 - кортеж линейных функций (каждая функция задаётся наборов коэффициентов), не зависящих от x, l_1 - от y, l_2 - от z."
   ]
  },
  {
   "cell_type": "code",
   "execution_count": 7,
   "id": "million-interface",
   "metadata": {},
   "outputs": [],
   "source": [
    "l_0 = coef_1[coef_1[:,6]==0]\n",
    "l_0 = tuple(map(tuple, l_0))\n",
    "l_1 = coef_1[coef_1[:,7]==0]\n",
    "l_1 = tuple(map(tuple, l_1))\n",
    "l_2 = coef_1[coef_1[:,8]==0]\n",
    "l_2 = tuple(map(tuple, l_2))"
   ]
  },
  {
   "cell_type": "markdown",
   "id": "false-workshop",
   "metadata": {},
   "source": [
    "В iterator_(1..6) содержатся семейства-кандидаты на правильность, состоящие из всевозможных комбинаций квадратичных и линейных функций"
   ]
  },
  {
   "cell_type": "code",
   "execution_count": 8,
   "id": "demonstrated-choice",
   "metadata": {},
   "outputs": [],
   "source": [
    "iterator_1 = it.product(f_0, f_1, l_2)\n",
    "iterator_2 = it.product(f_0, l_1, f_2)\n",
    "iterator_3 = it.product(l_0, f_1, f_2)\n",
    "iterator_4 = it.product(f_0, l_1, l_2)\n",
    "iterator_5 = it.product(l_0, f_1, l_2)\n",
    "iterator_6 = it.product(l_0, l_1, f_2)"
   ]
  },
  {
   "cell_type": "markdown",
   "id": "monthly-private",
   "metadata": {},
   "source": [
    "Функция calculate с помощью параллельных вычислений считает количество правильных семейств (1 выходной аргумент) и сохраняет их в переменную lst (2 выходной аргумент). Для проверки правильности используем функцию check_3 (вспомогательные объекты для её реализации и описание находятся в файле my_functions.ipynb)"
   ]
  },
  {
   "cell_type": "code",
   "execution_count": 9,
   "id": "related-spouse",
   "metadata": {},
   "outputs": [],
   "source": [
    "def calculate(pool, iterator, chunksize):\n",
    "    manager = multiprocessing.Manager()\n",
    "    lst = manager.list()\n",
    "    res =  pool.imap(partial(check_3, lst=lst), iterator, chunksize=chunksize)\n",
    "    return np.sum(np.array(tuple(res))), np.array(lst)"
   ]
  },
  {
   "cell_type": "code",
   "execution_count": 10,
   "id": "appreciated-greek",
   "metadata": {},
   "outputs": [],
   "source": [
    "num_workers = multiprocessing.cpu_count()\n",
    "pool = multiprocessing.Pool(num_workers)"
   ]
  },
  {
   "cell_type": "code",
   "execution_count": 11,
   "id": "beginning-airline",
   "metadata": {},
   "outputs": [],
   "source": [
    "chunksize = ceil(13305708 / (3 * num_workers))"
   ]
  },
  {
   "cell_type": "code",
   "execution_count": 12,
   "id": "completed-richards",
   "metadata": {
    "scrolled": true
   },
   "outputs": [
    {
     "data": {
      "text/plain": [
       "74844"
      ]
     },
     "execution_count": 12,
     "metadata": {},
     "output_type": "execute_result"
    }
   ],
   "source": [
    "s_1, lst_1 = calculate(pool, iterator_1, chunksize)\n",
    "s_1"
   ]
  },
  {
   "cell_type": "code",
   "execution_count": 13,
   "id": "tutorial-check",
   "metadata": {},
   "outputs": [
    {
     "data": {
      "text/plain": [
       "array([[[0, 0, 0, ..., 0, 0, 0],\n",
       "        [0, 0, 1, ..., 0, 0, 0],\n",
       "        [0, 0, 0, ..., 0, 0, 0]],\n",
       "\n",
       "       [[0, 0, 1, ..., 0, 1, 1],\n",
       "        [1, 0, 1, ..., 0, 0, 0],\n",
       "        [0, 0, 0, ..., 0, 0, 0]],\n",
       "\n",
       "       [[0, 0, 0, ..., 0, 0, 0],\n",
       "        [0, 0, 1, ..., 0, 0, 0],\n",
       "        [0, 0, 0, ..., 0, 0, 1]],\n",
       "\n",
       "       ...,\n",
       "\n",
       "       [[0, 2, 2, ..., 2, 2, 2],\n",
       "        [0, 0, 2, ..., 0, 2, 2],\n",
       "        [0, 0, 0, ..., 0, 0, 0]],\n",
       "\n",
       "       [[0, 2, 2, ..., 2, 2, 2],\n",
       "        [0, 0, 2, ..., 0, 2, 2],\n",
       "        [0, 0, 0, ..., 0, 0, 1]],\n",
       "\n",
       "       [[0, 2, 2, ..., 2, 2, 2],\n",
       "        [0, 0, 2, ..., 0, 2, 2],\n",
       "        [0, 0, 0, ..., 0, 0, 2]]])"
      ]
     },
     "execution_count": 13,
     "metadata": {},
     "output_type": "execute_result"
    }
   ],
   "source": [
    "lst_1"
   ]
  },
  {
   "cell_type": "code",
   "execution_count": 14,
   "id": "comic-opinion",
   "metadata": {},
   "outputs": [
    {
     "data": {
      "text/plain": [
       "74844"
      ]
     },
     "execution_count": 14,
     "metadata": {},
     "output_type": "execute_result"
    }
   ],
   "source": [
    "s_2, lst_2 = calculate(pool, iterator_2, chunksize)\n",
    "s_2"
   ]
  },
  {
   "cell_type": "code",
   "execution_count": 15,
   "id": "illegal-childhood",
   "metadata": {},
   "outputs": [
    {
     "data": {
      "text/plain": [
       "array([[[0, 0, 0, ..., 0, 0, 0],\n",
       "        [0, 0, 0, ..., 0, 0, 0],\n",
       "        [0, 1, 0, ..., 0, 0, 0]],\n",
       "\n",
       "       [[0, 0, 0, ..., 0, 0, 0],\n",
       "        [0, 0, 0, ..., 0, 0, 0],\n",
       "        [0, 1, 0, ..., 0, 0, 1]],\n",
       "\n",
       "       [[0, 0, 0, ..., 0, 0, 0],\n",
       "        [0, 0, 0, ..., 0, 0, 0],\n",
       "        [0, 1, 0, ..., 0, 0, 2]],\n",
       "\n",
       "       ...,\n",
       "\n",
       "       [[0, 2, 2, ..., 2, 2, 2],\n",
       "        [0, 0, 0, ..., 0, 0, 2],\n",
       "        [0, 2, 0, ..., 2, 0, 0]],\n",
       "\n",
       "       [[0, 2, 2, ..., 2, 2, 2],\n",
       "        [0, 0, 0, ..., 0, 0, 2],\n",
       "        [0, 2, 0, ..., 2, 0, 1]],\n",
       "\n",
       "       [[0, 2, 2, ..., 2, 2, 2],\n",
       "        [0, 0, 0, ..., 0, 0, 2],\n",
       "        [0, 2, 0, ..., 2, 0, 2]]])"
      ]
     },
     "execution_count": 15,
     "metadata": {},
     "output_type": "execute_result"
    }
   ],
   "source": [
    "lst_2"
   ]
  },
  {
   "cell_type": "code",
   "execution_count": 16,
   "id": "joined-substance",
   "metadata": {},
   "outputs": [
    {
     "data": {
      "text/plain": [
       "74844"
      ]
     },
     "execution_count": 16,
     "metadata": {},
     "output_type": "execute_result"
    }
   ],
   "source": [
    "s_3, lst_3 = calculate(pool, iterator_3, chunksize)\n",
    "s_3"
   ]
  },
  {
   "cell_type": "code",
   "execution_count": 17,
   "id": "manufactured-angle",
   "metadata": {},
   "outputs": [
    {
     "data": {
      "text/plain": [
       "array([[[0, 0, 0, ..., 0, 0, 0],\n",
       "        [0, 0, 0, ..., 0, 0, 0],\n",
       "        [1, 0, 0, ..., 0, 0, 0]],\n",
       "\n",
       "       [[0, 0, 0, ..., 0, 0, 0],\n",
       "        [0, 0, 0, ..., 0, 0, 0],\n",
       "        [1, 0, 0, ..., 0, 0, 1]],\n",
       "\n",
       "       [[0, 0, 0, ..., 0, 0, 0],\n",
       "        [2, 0, 0, ..., 0, 1, 1],\n",
       "        [2, 0, 0, ..., 0, 0, 0]],\n",
       "\n",
       "       ...,\n",
       "\n",
       "       [[0, 0, 0, ..., 0, 0, 0],\n",
       "        [2, 0, 0, ..., 0, 1, 1],\n",
       "        [1, 0, 0, ..., 0, 0, 0]],\n",
       "\n",
       "       [[0, 0, 0, ..., 0, 0, 0],\n",
       "        [2, 0, 0, ..., 0, 1, 1],\n",
       "        [1, 0, 0, ..., 0, 0, 1]],\n",
       "\n",
       "       [[0, 0, 0, ..., 0, 0, 0],\n",
       "        [2, 0, 0, ..., 0, 1, 1],\n",
       "        [1, 0, 0, ..., 0, 0, 2]]])"
      ]
     },
     "execution_count": 17,
     "metadata": {},
     "output_type": "execute_result"
    }
   ],
   "source": [
    "lst_3"
   ]
  },
  {
   "cell_type": "code",
   "execution_count": 18,
   "id": "rising-ethiopia",
   "metadata": {},
   "outputs": [],
   "source": [
    "chunksize = ceil(511758 / num_workers)"
   ]
  },
  {
   "cell_type": "code",
   "execution_count": 19,
   "id": "defined-antarctica",
   "metadata": {
    "scrolled": true
   },
   "outputs": [
    {
     "data": {
      "text/plain": [
       "33534"
      ]
     },
     "execution_count": 19,
     "metadata": {},
     "output_type": "execute_result"
    }
   ],
   "source": [
    "s_4, lst_4 = calculate(pool, iterator_4, chunksize)\n",
    "s_4"
   ]
  },
  {
   "cell_type": "code",
   "execution_count": 20,
   "id": "special-deposit",
   "metadata": {},
   "outputs": [
    {
     "data": {
      "text/plain": [
       "array([[[0, 0, 0, ..., 0, 0, 0],\n",
       "        [0, 0, 0, ..., 0, 0, 0],\n",
       "        [0, 0, 0, ..., 0, 0, 0]],\n",
       "\n",
       "       [[0, 1, 0, ..., 2, 1, 2],\n",
       "        [0, 0, 0, ..., 0, 0, 0],\n",
       "        [0, 0, 0, ..., 0, 0, 0]],\n",
       "\n",
       "       [[0, 0, 1, ..., 1, 0, 0],\n",
       "        [0, 0, 0, ..., 0, 0, 0],\n",
       "        [0, 0, 0, ..., 0, 0, 1]],\n",
       "\n",
       "       ...,\n",
       "\n",
       "       [[0, 0, 2, ..., 1, 1, 1],\n",
       "        [0, 0, 0, ..., 0, 2, 2],\n",
       "        [0, 0, 0, ..., 0, 0, 0]],\n",
       "\n",
       "       [[0, 0, 2, ..., 1, 1, 1],\n",
       "        [0, 0, 0, ..., 0, 2, 2],\n",
       "        [0, 0, 0, ..., 0, 0, 1]],\n",
       "\n",
       "       [[0, 0, 2, ..., 1, 1, 1],\n",
       "        [0, 0, 0, ..., 0, 2, 2],\n",
       "        [0, 0, 0, ..., 0, 0, 2]]])"
      ]
     },
     "execution_count": 20,
     "metadata": {},
     "output_type": "execute_result"
    }
   ],
   "source": [
    "lst_4"
   ]
  },
  {
   "cell_type": "code",
   "execution_count": 21,
   "id": "continued-discrimination",
   "metadata": {},
   "outputs": [
    {
     "data": {
      "text/plain": [
       "33534"
      ]
     },
     "execution_count": 21,
     "metadata": {},
     "output_type": "execute_result"
    }
   ],
   "source": [
    "s_5, lst_5 = calculate(pool, iterator_5, chunksize)\n",
    "s_5"
   ]
  },
  {
   "cell_type": "code",
   "execution_count": 22,
   "id": "brazilian-search",
   "metadata": {},
   "outputs": [
    {
     "data": {
      "text/plain": [
       "array([[[0, 0, 0, ..., 0, 0, 0],\n",
       "        [0, 0, 0, ..., 0, 0, 0],\n",
       "        [0, 0, 0, ..., 0, 0, 0]],\n",
       "\n",
       "       [[0, 0, 0, ..., 0, 1, 1],\n",
       "        [1, 0, 1, ..., 0, 0, 0],\n",
       "        [0, 0, 0, ..., 0, 0, 1]],\n",
       "\n",
       "       [[0, 0, 0, ..., 0, 0, 2],\n",
       "        [0, 0, 2, ..., 0, 1, 1],\n",
       "        [0, 0, 0, ..., 0, 0, 0]],\n",
       "\n",
       "       ...,\n",
       "\n",
       "       [[0, 0, 0, ..., 0, 0, 2],\n",
       "        [0, 0, 2, ..., 0, 1, 1],\n",
       "        [0, 0, 0, ..., 0, 0, 0]],\n",
       "\n",
       "       [[0, 0, 0, ..., 0, 0, 2],\n",
       "        [0, 0, 2, ..., 0, 1, 1],\n",
       "        [0, 0, 0, ..., 0, 0, 1]],\n",
       "\n",
       "       [[0, 0, 0, ..., 0, 0, 2],\n",
       "        [0, 0, 2, ..., 0, 1, 1],\n",
       "        [0, 0, 0, ..., 0, 0, 2]]])"
      ]
     },
     "execution_count": 22,
     "metadata": {},
     "output_type": "execute_result"
    }
   ],
   "source": [
    "lst_5"
   ]
  },
  {
   "cell_type": "code",
   "execution_count": 23,
   "id": "opened-participant",
   "metadata": {},
   "outputs": [
    {
     "data": {
      "text/plain": [
       "33534"
      ]
     },
     "execution_count": 23,
     "metadata": {},
     "output_type": "execute_result"
    }
   ],
   "source": [
    "s_6, lst_6 = calculate(pool, iterator_6, chunksize)\n",
    "s_6"
   ]
  },
  {
   "cell_type": "code",
   "execution_count": 24,
   "id": "arbitrary-biotechnology",
   "metadata": {},
   "outputs": [
    {
     "data": {
      "text/plain": [
       "array([[[0, 0, 0, ..., 0, 0, 0],\n",
       "        [0, 0, 0, ..., 0, 0, 0],\n",
       "        [0, 0, 0, ..., 0, 0, 0]],\n",
       "\n",
       "       [[0, 0, 0, ..., 1, 0, 0],\n",
       "        [0, 0, 0, ..., 0, 0, 0],\n",
       "        [0, 0, 0, ..., 0, 0, 2]],\n",
       "\n",
       "       [[0, 0, 0, ..., 0, 0, 0],\n",
       "        [0, 0, 0, ..., 0, 0, 0],\n",
       "        [0, 0, 0, ..., 0, 0, 1]],\n",
       "\n",
       "       ...,\n",
       "\n",
       "       [[0, 0, 0, ..., 0, 0, 2],\n",
       "        [0, 0, 0, ..., 0, 2, 0],\n",
       "        [2, 0, 0, ..., 0, 0, 0]],\n",
       "\n",
       "       [[0, 0, 0, ..., 0, 0, 2],\n",
       "        [0, 0, 0, ..., 0, 2, 0],\n",
       "        [2, 0, 0, ..., 0, 0, 1]],\n",
       "\n",
       "       [[0, 0, 0, ..., 0, 0, 2],\n",
       "        [0, 0, 0, ..., 0, 2, 0],\n",
       "        [2, 0, 0, ..., 0, 0, 2]]])"
      ]
     },
     "execution_count": 24,
     "metadata": {},
     "output_type": "execute_result"
    }
   ],
   "source": [
    "lst_6"
   ]
  },
  {
   "cell_type": "code",
   "execution_count": 25,
   "id": "martial-elder",
   "metadata": {},
   "outputs": [],
   "source": [
    "pool.close()\n",
    "pool.join()"
   ]
  },
  {
   "cell_type": "markdown",
   "id": "welsh-islam",
   "metadata": {},
   "source": [
    "Проверка семейства на треугольность: 1 функция - константа, 2 функция - зависит от x, 3 функция - зависит от x и y"
   ]
  },
  {
   "cell_type": "code",
   "execution_count": 51,
   "id": "resident-district",
   "metadata": {},
   "outputs": [],
   "source": [
    "def trg(fam):\n",
    "    if np.all(fam[0][:9] == 0) and np.all(fam[1][[1,2,3,4,5,7,8]] == 0) and np.all(fam[2][[2,4,5,8]] == 0):\n",
    "        return True\n",
    "    else: \n",
    "        return False"
   ]
  },
  {
   "cell_type": "markdown",
   "id": "reasonable-inquiry",
   "metadata": {},
   "source": [
    "Генерация семейства, полученного из входного семейства fam путём применения перестановки perm на функциях семейства и их аргументах. Перестановка на аргументах осуществляется перестановкой коэффициентов многочлена в нужном порядке. Коэффициенты при x^2, y^2 и z^2 и x,y,z переставляются так же, как и аргументы, а перестановка коэффициентов при смешанных квадратичных членах xy, xz, yz осуществляется согласно перестановке аргументов (не всегда с помощью той же перестановки)"
   ]
  },
  {
   "cell_type": "code",
   "execution_count": 52,
   "id": "harmful-submission",
   "metadata": {},
   "outputs": [],
   "source": [
    "def fam_perm(fam, perm):\n",
    "    c = copy.deepcopy(fam)\n",
    "    if np.array_equal(perm, np.array([0,2,1])):\n",
    "        perm_1 = np.array([1,0,2])\n",
    "    elif np.array_equal(perm, np.array([1,0,2])):\n",
    "        perm_1 = np.array([0,2,1])\n",
    "    elif np.array_equal(perm, np.array([1,2,0])):\n",
    "        perm_1 = np.array([2,0,1])\n",
    "    elif np.array_equal(perm, np.array([2,0,1])):\n",
    "        perm_1 = np.array([1,2,0])\n",
    "    else:\n",
    "        perm_1 = perm.copy()\n",
    "    for i in range(len(c)):\n",
    "        c[i][:3] = c[i][:3][perm]\n",
    "        c[i][6:9] = c[i][6:9][perm]\n",
    "        c[i][3:6] = c[i][3:6][perm_1]\n",
    "    return c[perm] "
   ]
  },
  {
   "cell_type": "markdown",
   "id": "convertible-absorption",
   "metadata": {},
   "source": [
    "Всевозможные перестановки из 3 элементов"
   ]
  },
  {
   "cell_type": "code",
   "execution_count": 53,
   "id": "rapid-vegetarian",
   "metadata": {},
   "outputs": [
    {
     "data": {
      "text/plain": [
       "array([[0, 1, 2],\n",
       "       [0, 2, 1],\n",
       "       [1, 0, 2],\n",
       "       [1, 2, 0],\n",
       "       [2, 0, 1],\n",
       "       [2, 1, 0]])"
      ]
     },
     "execution_count": 53,
     "metadata": {},
     "output_type": "execute_result"
    }
   ],
   "source": [
    "perm = np.array(tuple(it.permutations(range(3))))\n",
    "perm"
   ]
  },
  {
   "cell_type": "markdown",
   "id": "happy-usage",
   "metadata": {},
   "source": [
    "Проверка семейства на треугольность посредством проверки на треугольность всевозможных семейств, полученных из входного fam c помощью всевозможных перестановок на функциях семейства и их аргументах"
   ]
  },
  {
   "cell_type": "code",
   "execution_count": 54,
   "id": "sweet-methodology",
   "metadata": {},
   "outputs": [],
   "source": [
    "def check_trg(fam):\n",
    "    flag = False\n",
    "    for p in perm:\n",
    "        if trg(fam_perm(fam, p)):\n",
    "            flag = True\n",
    "            break\n",
    "    return flag"
   ]
  },
  {
   "cell_type": "markdown",
   "id": "qualified-offense",
   "metadata": {},
   "source": [
    "Подсчёт количества треугольных семейств среди правильных"
   ]
  },
  {
   "cell_type": "code",
   "execution_count": 57,
   "id": "stopped-lyric",
   "metadata": {},
   "outputs": [
    {
     "name": "stdout",
     "output_type": "stream",
     "text": [
      "74844 1.0\n"
     ]
    }
   ],
   "source": [
    "count_1 = 0\n",
    "for fam in lst_1:\n",
    "    if check_trg(fam):\n",
    "        count_1 += 1\n",
    "print(count_1, count_1 / len(lst_1))"
   ]
  },
  {
   "cell_type": "code",
   "execution_count": 58,
   "id": "distinguished-description",
   "metadata": {},
   "outputs": [
    {
     "name": "stdout",
     "output_type": "stream",
     "text": [
      "74844 1.0\n"
     ]
    }
   ],
   "source": [
    "count_2 = 0\n",
    "for fam in lst_2:\n",
    "    if check_trg(fam):\n",
    "        count_2 += 1\n",
    "print(count_2, count_2 / len(lst_2))"
   ]
  },
  {
   "cell_type": "code",
   "execution_count": 59,
   "id": "hindu-restaurant",
   "metadata": {},
   "outputs": [
    {
     "name": "stdout",
     "output_type": "stream",
     "text": [
      "74844 1.0\n"
     ]
    }
   ],
   "source": [
    "count_3 = 0\n",
    "for fam in lst_3:\n",
    "    if check_trg(fam):\n",
    "        count_3 += 1\n",
    "print(count_3, count_3 / len(lst_3))"
   ]
  },
  {
   "cell_type": "code",
   "execution_count": 60,
   "id": "running-italic",
   "metadata": {},
   "outputs": [
    {
     "name": "stdout",
     "output_type": "stream",
     "text": [
      "33534 1.0\n"
     ]
    }
   ],
   "source": [
    "count_4 = 0\n",
    "for fam in lst_4:\n",
    "    if check_trg(fam):\n",
    "        count_4 += 1\n",
    "print(count_4, count_4 / len(lst_4))"
   ]
  },
  {
   "cell_type": "code",
   "execution_count": 61,
   "id": "brazilian-knock",
   "metadata": {},
   "outputs": [
    {
     "name": "stdout",
     "output_type": "stream",
     "text": [
      "33534 1.0\n"
     ]
    }
   ],
   "source": [
    "count_5 = 0\n",
    "for fam in lst_5:\n",
    "    if check_trg(fam):\n",
    "        count_5 += 1\n",
    "print(count_5, count_5 / len(lst_5))"
   ]
  },
  {
   "cell_type": "code",
   "execution_count": 62,
   "id": "streaming-knowing",
   "metadata": {},
   "outputs": [
    {
     "name": "stdout",
     "output_type": "stream",
     "text": [
      "33534 1.0\n"
     ]
    }
   ],
   "source": [
    "count_6 = 0\n",
    "for fam in lst_6:\n",
    "    if check_trg(fam):\n",
    "        count_6 += 1\n",
    "print(count_6, count_6 / len(lst_6))"
   ]
  }
 ],
 "metadata": {
  "kernelspec": {
   "display_name": "tensorflow_macos_venv",
   "language": "python",
   "name": "tensorflow_macos_venv"
  },
  "language_info": {
   "codemirror_mode": {
    "name": "ipython",
    "version": 3
   },
   "file_extension": ".py",
   "mimetype": "text/x-python",
   "name": "python",
   "nbconvert_exporter": "python",
   "pygments_lexer": "ipython3",
   "version": "3.8.2"
  }
 },
 "nbformat": 4,
 "nbformat_minor": 5
}
