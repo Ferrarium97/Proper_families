{
 "cells": [
  {
   "cell_type": "code",
   "execution_count": 1,
   "id": "freelance-partition",
   "metadata": {},
   "outputs": [],
   "source": [
    "import itertools as it"
   ]
  },
  {
   "cell_type": "markdown",
   "id": "acceptable-communist",
   "metadata": {},
   "source": [
    "Генерация наборов аргументов x,y,z"
   ]
  },
  {
   "cell_type": "code",
   "execution_count": 2,
   "id": "finite-soldier",
   "metadata": {},
   "outputs": [],
   "source": [
    "args = tuple(it.product((0,1,2), repeat = 3))"
   ]
  },
  {
   "cell_type": "markdown",
   "id": "assumed-maryland",
   "metadata": {},
   "source": [
    "Генерация наборов аргументов x,y,z вместе с порядковым номером набора"
   ]
  },
  {
   "cell_type": "code",
   "execution_count": 3,
   "id": "alone-fishing",
   "metadata": {},
   "outputs": [],
   "source": [
    "num_args = tuple(enumerate(it.product((0,1,2), repeat = 3)))"
   ]
  },
  {
   "cell_type": "markdown",
   "id": "twenty-custom",
   "metadata": {},
   "source": [
    "Пары различных нумерованных наборов аргументов"
   ]
  },
  {
   "cell_type": "code",
   "execution_count": 4,
   "id": "detailed-saver",
   "metadata": {},
   "outputs": [],
   "source": [
    "pairs = tuple(it.combinations(num_args, 2))"
   ]
  },
  {
   "cell_type": "markdown",
   "id": "early-contents",
   "metadata": {},
   "source": [
    "Функция возвращает набор позиций, в которых отличаются два вектора x и y"
   ]
  },
  {
   "cell_type": "code",
   "execution_count": 5,
   "id": "comfortable-simpson",
   "metadata": {},
   "outputs": [],
   "source": [
    "def diff_idx(x,y):\n",
    "    return (i for (i,(a,b)) in enumerate(zip(x,y)) if a!=b)"
   ]
  },
  {
   "cell_type": "markdown",
   "id": "academic-compound",
   "metadata": {},
   "source": [
    "Вовзращает значение функции, задаемой набором коэффиентов coef в точке arg (arg - набор (x, y, z))"
   ]
  },
  {
   "cell_type": "code",
   "execution_count": 6,
   "id": "permanent-microphone",
   "metadata": {},
   "outputs": [],
   "source": [
    "def quad_func(coef, arg):\n",
    "    return (coef[0] * arg[0] * arg[0] + coef[1] * arg[1] * arg[1] + coef[2] * arg[2] * arg[2] + \\\n",
    "            coef[3] * arg[0] * arg[1] + coef[4] * arg[0] * arg[2] + coef[5] * arg[1] * arg[2] + \\\n",
    "            coef[6] * arg[0] + coef[7] * arg[1] + coef[8] * arg[2] + coef[9])%3"
   ]
  },
  {
   "cell_type": "markdown",
   "id": "integral-terrorism",
   "metadata": {},
   "source": [
    "Функция возвращает кортеж из значений функции, задаваемой коэффициентами coef, для всех аргументов"
   ]
  },
  {
   "cell_type": "code",
   "execution_count": 7,
   "id": "sharing-benjamin",
   "metadata": {},
   "outputs": [],
   "source": [
    "def quad_func_values(coef):\n",
    "    return tuple(quad_func(coef, arg) for arg in args)"
   ]
  },
  {
   "cell_type": "markdown",
   "id": "secure-tobacco",
   "metadata": {},
   "source": [
    "Проверка семейства на правильность по определению. На вход подаётся семейство fam в виже кортежа, состоящего из наборов коэффициентов, задающих функции семейства. Далее каждый набор коэффициентов заменяется на значения функции для всех аргументов с помощью функции quad_func_values"
   ]
  },
  {
   "cell_type": "code",
   "execution_count": 8,
   "id": "parental-jumping",
   "metadata": {},
   "outputs": [],
   "source": [
    "def check_2(fam):\n",
    "    fam = tuple(map(quad_func_values,fam))\n",
    "    for p in pairs:\n",
    "        flag = False\n",
    "        for idx in diff_idx(p[0][1],p[1][1]):\n",
    "            if fam[idx][p[0][0]] == fam[idx][p[1][0]]:\n",
    "                flag = True\n",
    "                break\n",
    "        if not flag:\n",
    "            break\n",
    "    return flag"
   ]
  },
  {
   "cell_type": "markdown",
   "id": "quality-aquarium",
   "metadata": {},
   "source": [
    "Функция делает то же самое, что и check_2 + сохраняет правильное семейство в общий список lst"
   ]
  },
  {
   "cell_type": "code",
   "execution_count": 9,
   "id": "certain-hebrew",
   "metadata": {},
   "outputs": [],
   "source": [
    "def check_3(fam, lst):\n",
    "    fam_1 = tuple(map(quad_func_values,fam))\n",
    "    for p in pairs:\n",
    "        flag = False\n",
    "        for idx in diff_idx(p[0][1],p[1][1]):\n",
    "            if fam_1[idx][p[0][0]] == fam_1[idx][p[1][0]]:\n",
    "                flag = True\n",
    "                break\n",
    "        if not flag:\n",
    "            break\n",
    "    if flag:\n",
    "        lst.append(fam)\n",
    "    return flag"
   ]
  }
 ],
 "metadata": {
  "kernelspec": {
   "display_name": "tensorflow_macos_venv",
   "language": "python",
   "name": "tensorflow_macos_venv"
  },
  "language_info": {
   "codemirror_mode": {
    "name": "ipython",
    "version": 3
   },
   "file_extension": ".py",
   "mimetype": "text/x-python",
   "name": "python",
   "nbconvert_exporter": "python",
   "pygments_lexer": "ipython3",
   "version": "3.8.2"
  }
 },
 "nbformat": 4,
 "nbformat_minor": 5
}
