{
 "cells": [
  {
   "cell_type": "markdown",
   "id": "straight-access",
   "metadata": {},
   "source": [
    "Подсчёт количества правильных семейств из квадратичных функций от 3 переменных"
   ]
  },
  {
   "cell_type": "code",
   "execution_count": 1,
   "id": "bound-rogers",
   "metadata": {},
   "outputs": [],
   "source": [
    "import itertools as it\n",
    "from math import ceil\n",
    "import numpy as np\n",
    "import multiprocessing\n",
    "from ipynb.fs.full.my_functions import check_2"
   ]
  },
  {
   "cell_type": "markdown",
   "id": "young-machinery",
   "metadata": {},
   "source": [
    "Создаём набор из 10 коэффициентов для квадратичных функций(по порядку: x^2, y^2, z^2, xy, xz, yz, x, y, z, c)"
   ]
  },
  {
   "cell_type": "code",
   "execution_count": 2,
   "id": "caring-farming",
   "metadata": {},
   "outputs": [],
   "source": [
    "coef = np.array(tuple(it.product((0,1,2), repeat = 10)))"
   ]
  },
  {
   "cell_type": "markdown",
   "id": "southern-lawsuit",
   "metadata": {},
   "source": [
    "Отбираем наборы коэффициентов, в которых есть хотя бы один ненулевой при квадратичном члене"
   ]
  },
  {
   "cell_type": "code",
   "execution_count": 3,
   "id": "paperback-reader",
   "metadata": {},
   "outputs": [],
   "source": [
    "coef = coef[(coef[:, 0] != 0) | (coef[:, 1] != 0) | (coef[:, 2] != 0) | (coef[:, 3] != 0) | (coef[:, 4] != 0) | (coef[:, 5] != 0)]"
   ]
  },
  {
   "cell_type": "markdown",
   "id": "worth-hygiene",
   "metadata": {},
   "source": [
    "f_0 - кортеж функций (каждая функция задаётся наборов коэффициентов), не зависящих от x, f_1 - от y, f_2 - от z. В переменной iterator находятся семейства-кандидаты на правильность (элементы декартова произведения f_0 x f_1 x f_2)"
   ]
  },
  {
   "cell_type": "code",
   "execution_count": 4,
   "id": "impressive-purchase",
   "metadata": {},
   "outputs": [],
   "source": [
    "f_0 = coef[(coef[:,0]==0) & (coef[:,3]==0) & (coef[:,4]==0) & (coef[:,6]==0)]\n",
    "f_0 = tuple(map(tuple, f_0))\n",
    "f_1 = coef[(coef[:,1]==0) & (coef[:,3]==0) & (coef[:,5]==0) & (coef[:,7]==0)]\n",
    "f_1 = tuple(map(tuple, f_1))\n",
    "f_2 = coef[(coef[:,2]==0) & (coef[:,4]==0) & (coef[:,5]==0) & (coef[:,8]==0)]\n",
    "f_2 = tuple(map(tuple, f_2))\n",
    "iterator = it.product(f_0, f_1, f_2)"
   ]
  },
  {
   "cell_type": "markdown",
   "id": "opened-eating",
   "metadata": {},
   "source": [
    "С помощью параллельных вычислений считаем количество правильных семейств из квадратичных функций. Для проверки правильности используем функцию check_2 (вспомогательные объекты для её реализации и описание находятся в файле my_functions.ipynb)"
   ]
  },
  {
   "cell_type": "code",
   "execution_count": 5,
   "id": "sunrise-scroll",
   "metadata": {},
   "outputs": [
    {
     "data": {
      "text/plain": [
       "0"
      ]
     },
     "execution_count": 5,
     "metadata": {},
     "output_type": "execute_result"
    }
   ],
   "source": [
    "num_workers = multiprocessing.cpu_count()\n",
    "pool = multiprocessing.Pool(num_workers)\n",
    "chunksize = ceil(345948408 / (4 * num_workers))\n",
    "result = pool.imap(check_2, iterator, chunksize=chunksize)\n",
    "pool.close()\n",
    "pool.join()\n",
    "s = np.sum(np.array(tuple(result)))\n",
    "s"
   ]
  },
  {
   "cell_type": "code",
   "execution_count": null,
   "id": "hollow-degree",
   "metadata": {},
   "outputs": [],
   "source": []
  }
 ],
 "metadata": {
  "kernelspec": {
   "display_name": "tensorflow_macos_venv",
   "language": "python",
   "name": "tensorflow_macos_venv"
  },
  "language_info": {
   "codemirror_mode": {
    "name": "ipython",
    "version": 3
   },
   "file_extension": ".py",
   "mimetype": "text/x-python",
   "name": "python",
   "nbconvert_exporter": "python",
   "pygments_lexer": "ipython3",
   "version": "3.8.2"
  }
 },
 "nbformat": 4,
 "nbformat_minor": 5
}
