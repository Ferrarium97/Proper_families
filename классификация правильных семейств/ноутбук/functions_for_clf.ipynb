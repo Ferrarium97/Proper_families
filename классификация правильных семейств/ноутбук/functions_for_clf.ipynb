{
 "cells": [
  {
   "cell_type": "code",
   "execution_count": 1,
   "id": "metric-hierarchy",
   "metadata": {},
   "outputs": [],
   "source": [
    "import numpy as np\n",
    "import itertools as it"
   ]
  },
  {
   "cell_type": "markdown",
   "id": "necessary-clark",
   "metadata": {},
   "source": [
    "Создаём массив наборов аргументов x,y,z"
   ]
  },
  {
   "cell_type": "code",
   "execution_count": 2,
   "id": "orange-detection",
   "metadata": {},
   "outputs": [],
   "source": [
    "args = np.array(list(it.product(range(3), repeat=3)))"
   ]
  },
  {
   "cell_type": "markdown",
   "id": "latest-thursday",
   "metadata": {},
   "source": [
    "Перевод набора аргументов, который можно представить в виде троичного числа, в его десятичную запись"
   ]
  },
  {
   "cell_type": "code",
   "execution_count": 3,
   "id": "sticky-angola",
   "metadata": {
    "scrolled": true
   },
   "outputs": [],
   "source": [
    "def construct(arg):\n",
    "    return int(''.join(map(str, arg)),3)"
   ]
  },
  {
   "cell_type": "markdown",
   "id": "golden-allah",
   "metadata": {},
   "source": [
    "Создание перестановки на значениях функции по перестановке на аргументах"
   ]
  },
  {
   "cell_type": "code",
   "execution_count": 4,
   "id": "novel-style",
   "metadata": {},
   "outputs": [],
   "source": [
    "def perm_on_val(perm):\n",
    "    args_perm = args[:, perm].tolist()\n",
    "    return list(map(construct, args_perm))"
   ]
  },
  {
   "cell_type": "markdown",
   "id": "consolidated-russian",
   "metadata": {},
   "source": [
    "Создание всех перестановок на аргументах"
   ]
  },
  {
   "cell_type": "code",
   "execution_count": 5,
   "id": "finite-majority",
   "metadata": {},
   "outputs": [],
   "source": [
    "perm = list(map(list, it.permutations(range(3))))"
   ]
  },
  {
   "cell_type": "markdown",
   "id": "advanced-episode",
   "metadata": {},
   "source": [
    "Список пар, состоящих из перестановки на аргументах и перестановки на значениях функции"
   ]
  },
  {
   "cell_type": "code",
   "execution_count": 6,
   "id": "intensive-fence",
   "metadata": {},
   "outputs": [],
   "source": [
    "perm_couple = [(p, perm_on_val(p)) for p in perm]"
   ]
  },
  {
   "cell_type": "markdown",
   "id": "unknown-olympus",
   "metadata": {},
   "source": [
    "Построение семейства, полученного из исходного fam путём перестановки p[0] на аргументах функций и самих функций в семействе"
   ]
  },
  {
   "cell_type": "code",
   "execution_count": 7,
   "id": "minimal-breath",
   "metadata": {},
   "outputs": [],
   "source": [
    "def fam_aft_perm(fam, p):\n",
    "    return fam[:, p[1]][p[0]]"
   ]
  },
  {
   "cell_type": "markdown",
   "id": "rural-phase",
   "metadata": {},
   "source": [
    "Проверка семейства на свойство треугольности: первая функция - константа, вторая функция не зависит от y и z, а третья функция не зависит от z."
   ]
  },
  {
   "cell_type": "code",
   "execution_count": 8,
   "id": "polar-trouble",
   "metadata": {},
   "outputs": [],
   "source": [
    "def check_trg(fam):\n",
    "    if np.all(fam[0] == fam[0,0]) and \\\n",
    "       np.all([fam[1][i:i+9] == fam[1,i] for i in range(0,27,9)]) and \\\n",
    "       np.all([fam[2][i:i+3] == fam[2,i] for i in range(0,27,3)]):\n",
    "        return True\n",
    "    else:\n",
    "        return False"
   ]
  },
  {
   "cell_type": "markdown",
   "id": "supreme-distribution",
   "metadata": {},
   "source": [
    "Проверка семейства на треугольность: если существует перестановка на аргументах и функциях семейства, которая делает из исходного семейство, обладающее свойством треугольности, то семейство треугольное."
   ]
  },
  {
   "cell_type": "code",
   "execution_count": 9,
   "id": "eight-gothic",
   "metadata": {},
   "outputs": [],
   "source": [
    "def check_trg_aft_perm(fam):\n",
    "    for pc in perm_couple:\n",
    "        if check_trg(fam_aft_perm(fam, pc)):\n",
    "            return True\n",
    "    return False"
   ]
  },
  {
   "cell_type": "markdown",
   "id": "affecting-large",
   "metadata": {},
   "source": [
    "Проверка семейства на ортогональность: все функции в семействе должны быть попарно ортогональны."
   ]
  },
  {
   "cell_type": "code",
   "execution_count": 10,
   "id": "ahead-browse",
   "metadata": {},
   "outputs": [],
   "source": [
    "def check_ort(fam):\n",
    "    return np.all(np.count_nonzero(fam == 0, axis=0)>1)"
   ]
  },
  {
   "cell_type": "markdown",
   "id": "employed-national",
   "metadata": {},
   "source": [
    "## Следующий блок кода относится к мультиаффинным семействам, которые находятся в стадии разработки, поэтому на данный момент этот блок не представляет интереса."
   ]
  },
  {
   "cell_type": "markdown",
   "id": "macro-flashing",
   "metadata": {},
   "source": [
    "Следующий блок закомментированных команд был направлен на получение всевозможных конъюнкций (минимума в троичной случае) линейных функций для проверки семейства на мультиаффинность. Эти конъюнкции представлены в укороченном виде: так как i-я функция не зависит от i-ой переменной, то для i-ой функции (если она мультиаффинная) конъюнкции должны состоять из линейных функций, которые не зависят от i-ой переменной. Поскольку 1 функцию (которая не зависит от x) достаточно задать на 0-8 наборе (нумерация от 0), 2 функцию (которая не зависит от y) достаточно задать на 0,1,2,9,10,11,18,19,20 наборах, а 3 функцию (которая не зависит от z) достаточно задать на 0,3,6,9,12,15,18,21,24 наборах, то и всевозможные конъюнкции линейных функций (не зависящих от x для 1 функции, не зависящих от y для 2 функции и не зависящих от z для 3 функции) достаточно задать на соответствующих 9 наборах. Поскольку список значений всевозможных линейных функций , не зависящих от x, на 0-8 наборе совпадает со списком значений для линейных функций, не зависящих от y, на 0,1,2,9,10,11,18,19,20 наборах, а также со списком значений для линейных функций, не зависящих от z, на 0,3,6,9,12,15,18,21,24 наборах, то достаточно рассмотреть один из них и из него получить всевозможные конъюнкции, представленные своими значениями на 9 наборах (для 1 функции это будет 0-8 наборы, для 2 функции это будет 0,1,2,9,10,11,18,19,20 наборы, для 3 функции это будет 0,3,6,9,12,15,18,21,24 наборы)."
   ]
  },
  {
   "cell_type": "markdown",
   "id": "subject-penalty",
   "metadata": {},
   "source": [
    "Линейные функции будут представлены наборами коэффициентов (a_0, a_1, a_2, a_3) и задаваться формулой a_0 + a_1 * x + a_2 * y + a_3 * z "
   ]
  },
  {
   "cell_type": "markdown",
   "id": "fossil-services",
   "metadata": {},
   "source": [
    "Подсчёт значения линейной функции по набору коэффициентов и значению аргументов"
   ]
  },
  {
   "cell_type": "code",
   "execution_count": 11,
   "id": "third-hobby",
   "metadata": {},
   "outputs": [],
   "source": [
    "#def lin_func(coef, arg):\n",
    "#    return np.sum(coef*np.append(1,arg))%3"
   ]
  },
  {
   "cell_type": "markdown",
   "id": "classified-keyboard",
   "metadata": {},
   "source": [
    "Построение вектора значений на 0-8 наборах линейной функции по её набору коэффициентов"
   ]
  },
  {
   "cell_type": "code",
   "execution_count": 12,
   "id": "recent-express",
   "metadata": {},
   "outputs": [],
   "source": [
    "#def build_linfunc(coef):\n",
    "#    return np.fromiter((lin_func(coef, arg) for arg in args[:9]), dtype=int)"
   ]
  },
  {
   "cell_type": "markdown",
   "id": "existing-wilson",
   "metadata": {},
   "source": [
    "Генерация всевозможных наборов коэффициентов для линейных функций"
   ]
  },
  {
   "cell_type": "code",
   "execution_count": 13,
   "id": "architectural-camera",
   "metadata": {},
   "outputs": [],
   "source": [
    "#coef = np.array(list(it.product(range(3), repeat = 4)))"
   ]
  },
  {
   "cell_type": "markdown",
   "id": "secret-exception",
   "metadata": {},
   "source": [
    "Отбираем только функции, которые не зависят от x (см. замечание в блоке пояснений выше про равенство списков)"
   ]
  },
  {
   "cell_type": "code",
   "execution_count": 14,
   "id": "thorough-lending",
   "metadata": {},
   "outputs": [],
   "source": [
    "#coef_1 = coef[coef[:,1]==0]"
   ]
  },
  {
   "cell_type": "markdown",
   "id": "innovative-homework",
   "metadata": {},
   "source": [
    "Строим список векторов значений на 0-8 наборах для всех линейных функций, не зависящих от x"
   ]
  },
  {
   "cell_type": "code",
   "execution_count": 15,
   "id": "greater-simon",
   "metadata": {
    "scrolled": true
   },
   "outputs": [],
   "source": [
    "#linfunc_1 = np.array(list(map(build_linfunc, coef_1)))"
   ]
  },
  {
   "cell_type": "markdown",
   "id": "experimental-start",
   "metadata": {},
   "source": [
    "Строим список всевозможных конъюнкций линейных функций, не зависящих от x, которые представляют собой векторы значений на 0-8 наборах (из списка линейных функций убираем 0 функцию для ускорения вычислений, потому что минимум с ней всегда даст 0, а конъюнкция по всем остальным линейным фунциям и так даст 0, так что мы его не потеряем)"
   ]
  },
  {
   "cell_type": "code",
   "execution_count": 16,
   "id": "driven-storage",
   "metadata": {},
   "outputs": [],
   "source": [
    "#all_linf_conj = np.array(list(np.min(elem, axis=0) for i in range(1,linfunc_1.shape[0]) for elem in it.combinations(linfunc_1[1:],i)))"
   ]
  },
  {
   "cell_type": "markdown",
   "id": "focused-logan",
   "metadata": {},
   "source": [
    "Отбираем только уникальные из них"
   ]
  },
  {
   "cell_type": "code",
   "execution_count": 17,
   "id": "activated-elephant",
   "metadata": {},
   "outputs": [],
   "source": [
    "#all_linf_conj = np.unique(all_linf_conj, axis=0)"
   ]
  },
  {
   "cell_type": "markdown",
   "id": "express-genius",
   "metadata": {},
   "source": [
    "Сохраняем полученные функции в сжатый файл"
   ]
  },
  {
   "cell_type": "code",
   "execution_count": 18,
   "id": "roman-while",
   "metadata": {},
   "outputs": [],
   "source": [
    "#np.savez_compressed('all_linf_conj', all_linf_conj)"
   ]
  },
  {
   "cell_type": "markdown",
   "id": "fatal-quest",
   "metadata": {},
   "source": [
    "Выгружаем всевозможные конъюнкции из файла (без их предварительного пересчёта) для ускорения при повторных пересчётах"
   ]
  },
  {
   "cell_type": "code",
   "execution_count": 19,
   "id": "verified-testimony",
   "metadata": {},
   "outputs": [],
   "source": [
    "#all_linf_conj = np.load('all_linf_conj.npz')['arr_0']"
   ]
  },
  {
   "cell_type": "markdown",
   "id": "hollywood-particular",
   "metadata": {},
   "source": [
    "Проверка семейства на мультиаффинность. Семейство подаётся в укороченном виде (1 функция представлена вектором значений на 0-8 наборе, 2 функция - на 0,1,2,9,10,11,18,19,20 наборах, 3 функция - на 0,3,6,9,12,15,18,21,24 наборах). Проверяется мультиаффинность каждой из функций (то есть принадлежность к списку всевозможных конъюнкций из линейных функций)"
   ]
  },
  {
   "cell_type": "code",
   "execution_count": 20,
   "id": "seventh-viewer",
   "metadata": {},
   "outputs": [],
   "source": [
    "#def check_mltaff(short_fam):\n",
    "#    if any(np.array_equal(x, short_fam[0]) for x in all_linf_conj) and \\\n",
    "#       any(np.array_equal(x, short_fam[1]) for x in all_linf_conj) and \\\n",
    "#       any(np.array_equal(x, short_fam[2]) for x in all_linf_conj):\n",
    "#        return True\n",
    "#    else:\n",
    "#        return False"
   ]
  }
 ],
 "metadata": {
  "kernelspec": {
   "display_name": "tensorflow_macos_venv",
   "language": "python",
   "name": "tensorflow_macos_venv"
  },
  "language_info": {
   "codemirror_mode": {
    "name": "ipython",
    "version": 3
   },
   "file_extension": ".py",
   "mimetype": "text/x-python",
   "name": "python",
   "nbconvert_exporter": "python",
   "pygments_lexer": "ipython3",
   "version": "3.8.2"
  }
 },
 "nbformat": 4,
 "nbformat_minor": 5
}
