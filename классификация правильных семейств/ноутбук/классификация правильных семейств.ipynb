{
 "cells": [
  {
   "cell_type": "markdown",
   "id": "human-jurisdiction",
   "metadata": {},
   "source": [
    "Среди полученных правильных семейств порядка 3 осуществляется поиск треугольных и ортогональных семейств и семейств, которые не вошли ни в один из этих 2 классов. Также ищутся пересечения этих классов."
   ]
  },
  {
   "cell_type": "code",
   "execution_count": 1,
   "id": "absolute-faculty",
   "metadata": {},
   "outputs": [],
   "source": [
    "import numpy as np\n",
    "import itertools as it\n",
    "from ipynb.fs.full.functions_for_clf import check_ort, check_trg_aft_perm\n",
    "import multiprocessing\n",
    "from math import ceil"
   ]
  },
  {
   "cell_type": "markdown",
   "id": "geological-turner",
   "metadata": {},
   "source": [
    "Выгружаем numpy-массив, состоящий из всех правильных семейств порядка 3"
   ]
  },
  {
   "cell_type": "code",
   "execution_count": 2,
   "id": "modern-uncertainty",
   "metadata": {},
   "outputs": [],
   "source": [
    "data = np.load('all_fams.npz')['arr_0']"
   ]
  },
  {
   "cell_type": "code",
   "execution_count": 3,
   "id": "careful-allah",
   "metadata": {
    "scrolled": false
   },
   "outputs": [
    {
     "data": {
      "text/plain": [
       "(35481915, 3, 27)"
      ]
     },
     "execution_count": 3,
     "metadata": {},
     "output_type": "execute_result"
    }
   ],
   "source": [
    "data.shape"
   ]
  },
  {
   "cell_type": "markdown",
   "id": "eastern-kernel",
   "metadata": {},
   "source": [
    "С помощью параллельных вычислений ищем треугольные и ортогональные правильные семейства порядка 3, используя функции проверки из файла functions_for_clf. Результат храним в виде булевой маски ort_res для ортогональных семейств и trg_res для треугольных."
   ]
  },
  {
   "cell_type": "code",
   "execution_count": 4,
   "id": "separated-animal",
   "metadata": {},
   "outputs": [],
   "source": [
    "num_workers = multiprocessing.cpu_count()\n",
    "pool = multiprocessing.Pool(num_workers)\n",
    "chunksize = ceil(35481915 / (4 * num_workers))"
   ]
  },
  {
   "cell_type": "code",
   "execution_count": 5,
   "id": "sonic-serial",
   "metadata": {},
   "outputs": [],
   "source": [
    "ort_res = np.fromiter(pool.imap(check_ort, data, chunksize=chunksize), dtype=bool)"
   ]
  },
  {
   "cell_type": "code",
   "execution_count": 6,
   "id": "other-donna",
   "metadata": {},
   "outputs": [],
   "source": [
    "trg_res = np.fromiter(pool.imap(check_trg_aft_perm, data, chunksize=chunksize), dtype=bool)"
   ]
  },
  {
   "cell_type": "code",
   "execution_count": 7,
   "id": "fatty-buffer",
   "metadata": {},
   "outputs": [],
   "source": [
    "pool.close()\n",
    "pool.join()"
   ]
  },
  {
   "cell_type": "markdown",
   "id": "obvious-cartridge",
   "metadata": {},
   "source": [
    "Применяем булеву маску ort_res к массиву всех правильных семейств. Получаем все правильные ортогональные семейства и сохраняем их в сжатый файл"
   ]
  },
  {
   "cell_type": "code",
   "execution_count": 8,
   "id": "residential-clark",
   "metadata": {},
   "outputs": [],
   "source": [
    "ort_fams = data[ort_res]"
   ]
  },
  {
   "cell_type": "code",
   "execution_count": 9,
   "id": "thermal-malta",
   "metadata": {},
   "outputs": [
    {
     "data": {
      "text/plain": [
       "(527551, 3, 27)"
      ]
     },
     "execution_count": 9,
     "metadata": {},
     "output_type": "execute_result"
    }
   ],
   "source": [
    "ort_fams.shape"
   ]
  },
  {
   "cell_type": "code",
   "execution_count": 10,
   "id": "structural-reference",
   "metadata": {},
   "outputs": [],
   "source": [
    "np.savez_compressed('ort_fams', ort_fams)"
   ]
  },
  {
   "cell_type": "markdown",
   "id": "stock-marijuana",
   "metadata": {},
   "source": [
    "Применяем булеву маску trg_res к массиву всех правильных семейств. Получаем все правильные треугольные семейства и сохраняем их в сжатый файл"
   ]
  },
  {
   "cell_type": "code",
   "execution_count": 11,
   "id": "surprising-marketplace",
   "metadata": {},
   "outputs": [],
   "source": [
    "trg_fams = data[trg_res]"
   ]
  },
  {
   "cell_type": "code",
   "execution_count": 12,
   "id": "thorough-collect",
   "metadata": {},
   "outputs": [
    {
     "data": {
      "text/plain": [
       "(6197499, 3, 27)"
      ]
     },
     "execution_count": 12,
     "metadata": {},
     "output_type": "execute_result"
    }
   ],
   "source": [
    "trg_fams.shape"
   ]
  },
  {
   "cell_type": "code",
   "execution_count": 13,
   "id": "crazy-hands",
   "metadata": {},
   "outputs": [],
   "source": [
    "np.savez_compressed('trg_fams', trg_fams)"
   ]
  },
  {
   "cell_type": "markdown",
   "id": "hawaiian-surge",
   "metadata": {},
   "source": [
    "Ищем пересечение классов ортогональных и треугольных правильных семейств и сохраняем их в файл"
   ]
  },
  {
   "cell_type": "code",
   "execution_count": 14,
   "id": "working-syracuse",
   "metadata": {},
   "outputs": [],
   "source": [
    "ort_trg_fams = data[ort_res & trg_res]"
   ]
  },
  {
   "cell_type": "code",
   "execution_count": 15,
   "id": "equivalent-wound",
   "metadata": {},
   "outputs": [
    {
     "data": {
      "text/plain": [
       "(77695, 3, 27)"
      ]
     },
     "execution_count": 15,
     "metadata": {},
     "output_type": "execute_result"
    }
   ],
   "source": [
    "ort_trg_fams.shape"
   ]
  },
  {
   "cell_type": "code",
   "execution_count": 16,
   "id": "discrete-snake",
   "metadata": {},
   "outputs": [],
   "source": [
    "np.savez_compressed('ort_trg_fams', ort_trg_fams)"
   ]
  },
  {
   "cell_type": "markdown",
   "id": "whole-better",
   "metadata": {},
   "source": [
    "Сохраняем булевы маски ort_res и trg_res для дальнейшего переиспользования"
   ]
  },
  {
   "cell_type": "code",
   "execution_count": 17,
   "id": "homeless-depression",
   "metadata": {},
   "outputs": [],
   "source": [
    "np.savez_compressed('ort_res', ort_res)\n",
    "np.savez_compressed('trg_res', trg_res)"
   ]
  },
  {
   "cell_type": "markdown",
   "id": "annoying-methodology",
   "metadata": {},
   "source": [
    "Так как в правильном семействе i-ая функция не зависит существенно от i-ой переменной, то укоротим массив данных в 3 раза, задав 1 функцию на 0-8 наборах, 2 функцию на 0,1,2,9,10,11,18,19,20 наборах, а 3 функцию на 0,3,6,9,12,15,18,21,24 наборах. Полученный компактный массив правильных семейств порядка 3 сохраним в all_fams_short."
   ]
  },
  {
   "cell_type": "code",
   "execution_count": 13,
   "id": "animated-encoding",
   "metadata": {},
   "outputs": [],
   "source": [
    "data_1, data_2, data_3 = data[:,0,:9], data[:,1,[0,1,2,9,10,11,18,19,20]], data[:,2,[0,3,6,9,12,15,18,21,24]]"
   ]
  },
  {
   "cell_type": "code",
   "execution_count": 20,
   "id": "affected-spare",
   "metadata": {},
   "outputs": [],
   "source": [
    "all_fams_short = np.stack((data_1,data_2,data_3), axis=1)"
   ]
  },
  {
   "cell_type": "code",
   "execution_count": 22,
   "id": "likely-cyprus",
   "metadata": {},
   "outputs": [],
   "source": [
    "np.savez_compressed('all_fams_short', all_fams_short)"
   ]
  },
  {
   "cell_type": "markdown",
   "id": "three-concentration",
   "metadata": {},
   "source": [
    "Так как полная версия массива всех правильных семейств порядка 3 (где каждая функция представлена 27 значениями) занимает много оперативной памяти, то все остальные семейства, не вошедшие в 2 рассмотренных класса, будем искать в укороченном виде путём применения соответствующей булевой маски к сжатой версии массива правильных семейств all_fams_short"
   ]
  },
  {
   "cell_type": "code",
   "execution_count": null,
   "id": "sophisticated-spouse",
   "metadata": {},
   "outputs": [],
   "source": [
    "other_fams_short = all_fams_short[~(ort_res | trg_res)]"
   ]
  },
  {
   "cell_type": "code",
   "execution_count": null,
   "id": "pediatric-characteristic",
   "metadata": {},
   "outputs": [],
   "source": [
    "other_fams_short.shape"
   ]
  },
  {
   "cell_type": "code",
   "execution_count": null,
   "id": "suited-homework",
   "metadata": {},
   "outputs": [],
   "source": [
    "np.savez_compressed('other_fams_short', other_fams_short)"
   ]
  },
  {
   "cell_type": "markdown",
   "id": "vocational-subdivision",
   "metadata": {},
   "source": [
    "Cохраним все ранее полученные результаты в укороченном виде (где каждая функция в семействе будет представлена 9 значениями)"
   ]
  },
  {
   "cell_type": "code",
   "execution_count": 7,
   "id": "front-bulletin",
   "metadata": {},
   "outputs": [],
   "source": [
    "ort_fams_short = all_fams_short[ort_res]\n",
    "trg_fams_short = all_fams_short[trg_res]\n",
    "ort_trg_fams_short = all_fams_short[ort_res & trg_res]"
   ]
  },
  {
   "cell_type": "code",
   "execution_count": 8,
   "id": "frozen-remove",
   "metadata": {},
   "outputs": [],
   "source": [
    "np.savez_compressed('ort_fams_short', ort_fams_short)\n",
    "np.savez_compressed('trg_fams_short', trg_fams_short)\n",
    "np.savez_compressed('ort_trg_fams_short', ort_trg_fams_short)"
   ]
  },
  {
   "cell_type": "markdown",
   "id": "pediatric-reminder",
   "metadata": {},
   "source": [
    "## Следующий блок кода относится к мультиаффинным семействам, которые находятся в стадии разработки, поэтому на данный момент этот блок не представляет интереса."
   ]
  },
  {
   "cell_type": "markdown",
   "id": "bored-intranet",
   "metadata": {},
   "source": [
    "Загрузим укороченную версию массива всех правильных семейств порядка 3 для поиска мультиаффинных правильных семейств. С помощью параллельных вычислений получим булеву маску mltaff_res в точности как и для предыдущих двух классов."
   ]
  },
  {
   "cell_type": "code",
   "execution_count": 2,
   "id": "exclusive-smith",
   "metadata": {},
   "outputs": [],
   "source": [
    "#all_fams_short = np.load('all_fams_short.npz')['arr_0']"
   ]
  },
  {
   "cell_type": "code",
   "execution_count": 3,
   "id": "exclusive-demonstration",
   "metadata": {},
   "outputs": [],
   "source": [
    "#num_workers = multiprocessing.cpu_count()\n",
    "#pool = multiprocessing.Pool(num_workers)\n",
    "#chunksize = ceil(35481915 / (12 * num_workers))"
   ]
  },
  {
   "cell_type": "code",
   "execution_count": 4,
   "id": "latin-prediction",
   "metadata": {},
   "outputs": [],
   "source": [
    "#mltaff_res = np.fromiter(pool.imap(check_mltaff, all_fams_short, chunksize=chunksize), dtype=bool)"
   ]
  },
  {
   "cell_type": "code",
   "execution_count": null,
   "id": "romance-spelling",
   "metadata": {},
   "outputs": [],
   "source": [
    "#pool.close()\n",
    "#pool.join()"
   ]
  },
  {
   "cell_type": "code",
   "execution_count": 8,
   "id": "threaded-armstrong",
   "metadata": {},
   "outputs": [],
   "source": [
    "#np.savez_compressed('mltaff_res', mltaff_res)"
   ]
  },
  {
   "cell_type": "markdown",
   "id": "widespread-latex",
   "metadata": {},
   "source": [
    "Загрузим все полученные ранее булевы маски для поиска пересечений 3 классов правильных семейств и семейств, не вошедших в эти 3 класса."
   ]
  },
  {
   "cell_type": "code",
   "execution_count": 3,
   "id": "matched-leave",
   "metadata": {},
   "outputs": [],
   "source": [
    "#ort_res = np.load('ort_res.npz')['arr_0']\n",
    "#trg_res = np.load('trg_res.npz')['arr_0']\n",
    "#mltaff_res = np.load('mltaff_res.npz')['arr_0']"
   ]
  },
  {
   "cell_type": "markdown",
   "id": "breeding-quality",
   "metadata": {},
   "source": [
    "Применяем булеву маску mltaff_res к исходному массиву всех правильных семейств порядка 3 и получаем все правильные мультиаффинные семейства порядка 3 в переменной mltaff_fams"
   ]
  },
  {
   "cell_type": "code",
   "execution_count": 4,
   "id": "compact-input",
   "metadata": {},
   "outputs": [],
   "source": [
    "#mltaff_fams = data[mltaff_res]"
   ]
  },
  {
   "cell_type": "code",
   "execution_count": 5,
   "id": "adjusted-zealand",
   "metadata": {},
   "outputs": [],
   "source": [
    "#np.savez_compressed('mltaff_fams', mltaff_fams)"
   ]
  },
  {
   "cell_type": "markdown",
   "id": "informed-census",
   "metadata": {},
   "source": [
    "Ищем пересечение классов ортогональных и мультиаффиных правильных семейств порядка 3"
   ]
  },
  {
   "cell_type": "code",
   "execution_count": 8,
   "id": "received-lambda",
   "metadata": {},
   "outputs": [],
   "source": [
    "#ort_mltaff_fams = data[ort_res & mltaff_res]"
   ]
  },
  {
   "cell_type": "code",
   "execution_count": 10,
   "id": "elegant-input",
   "metadata": {},
   "outputs": [],
   "source": [
    "#np.savez_compressed('ort_mltaff_fams', ort_mltaff_fams)"
   ]
  },
  {
   "cell_type": "markdown",
   "id": "alien-shirt",
   "metadata": {},
   "source": [
    "Ищем пересечение треугольных и мультиаффинных правильных семейств порядка 3"
   ]
  },
  {
   "cell_type": "code",
   "execution_count": 11,
   "id": "indoor-defense",
   "metadata": {},
   "outputs": [],
   "source": [
    "#trg_mltaff_fams = data[trg_res & mltaff_res]"
   ]
  },
  {
   "cell_type": "code",
   "execution_count": 12,
   "id": "filled-gambling",
   "metadata": {},
   "outputs": [],
   "source": [
    "#np.savez_compressed('trg_mltaff_fams', trg_mltaff_fams)"
   ]
  },
  {
   "cell_type": "markdown",
   "id": "short-powell",
   "metadata": {},
   "source": [
    "Ищем пересечение всех 3 классов"
   ]
  },
  {
   "cell_type": "code",
   "execution_count": 14,
   "id": "light-certification",
   "metadata": {},
   "outputs": [],
   "source": [
    "#ort_trg_mltaff_fams = data[ort_res & trg_res & mltaff_res]"
   ]
  },
  {
   "cell_type": "code",
   "execution_count": 15,
   "id": "harmful-unknown",
   "metadata": {},
   "outputs": [
    {
     "data": {
      "text/plain": [
       "(7135, 3, 27)"
      ]
     },
     "execution_count": 15,
     "metadata": {},
     "output_type": "execute_result"
    }
   ],
   "source": [
    "#ort_trg_mltaff_fams.shape"
   ]
  },
  {
   "cell_type": "code",
   "execution_count": 16,
   "id": "drawn-blade",
   "metadata": {},
   "outputs": [],
   "source": [
    "#np.savez_compressed('ort_trg_mltaff_fams', ort_trg_mltaff_fams)"
   ]
  },
  {
   "cell_type": "code",
   "execution_count": 4,
   "id": "crude-offering",
   "metadata": {},
   "outputs": [],
   "source": [
    "#other_fams_short = all_fams_short[~(ort_res | trg_res | mltaff_res)]"
   ]
  },
  {
   "cell_type": "code",
   "execution_count": 5,
   "id": "accepting-atlas",
   "metadata": {},
   "outputs": [
    {
     "data": {
      "text/plain": [
       "(28685448, 3, 9)"
      ]
     },
     "execution_count": 5,
     "metadata": {},
     "output_type": "execute_result"
    }
   ],
   "source": [
    "#other_fams_short.shape"
   ]
  },
  {
   "cell_type": "code",
   "execution_count": 6,
   "id": "independent-tablet",
   "metadata": {},
   "outputs": [],
   "source": [
    "#np.savez_compressed('other_fams_short', other_fams_short)"
   ]
  }
 ],
 "metadata": {
  "kernelspec": {
   "display_name": "tensorflow_macos_venv",
   "language": "python",
   "name": "tensorflow_macos_venv"
  },
  "language_info": {
   "codemirror_mode": {
    "name": "ipython",
    "version": 3
   },
   "file_extension": ".py",
   "mimetype": "text/x-python",
   "name": "python",
   "nbconvert_exporter": "python",
   "pygments_lexer": "ipython3",
   "version": "3.8.2"
  }
 },
 "nbformat": 4,
 "nbformat_minor": 5
}
